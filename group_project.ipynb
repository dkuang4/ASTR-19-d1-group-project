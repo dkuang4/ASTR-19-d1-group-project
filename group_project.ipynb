{
 "cells": [
  {
   "cell_type": "markdown",
   "metadata": {},
   "source": [
    "# D-1 Group Project"
   ]
  },
  {
   "cell_type": "markdown",
   "metadata": {},
   "source": [
    "Import libraries"
   ]
  },
  {
   "cell_type": "code",
   "execution_count": null,
   "metadata": {},
   "outputs": [],
   "source": [
    "import scipy\n",
    "import pandas as pd\n",
    "import numpy as np\n",
    "import matplotlib.pyplot as plt"
   ]
  },
  {
   "cell_type": "markdown",
   "metadata": {},
   "source": [
    "Read in the data from the csv file and put it into a pandas DataFrame. Then, modify and clean the data and put it into a new csv."
   ]
  },
  {
   "cell_type": "code",
   "execution_count": null,
   "metadata": {},
   "outputs": [],
   "source": [
    "def read_and_clean_data():\n",
    "    df = pd.read_csv(\"data.csv\")\n",
    "\n",
    "    new_col_names = {\n",
    "        \"Day of the year\": \"day\",\n",
    "        \"Time in hours:minutes\": \"24_hr\",\n",
    "        \"Tide Height in feet\": \"tide_height\",\n",
    "    }\n",
    "\n",
    "    df.rename(columns=new_col_names, inplace=True)\n",
    "\n",
    "    df[\"datetime\"] = pd.to_datetime(df[\"24_hr\"], format=\"%H:%M\")\n",
    "    df[\"minutes\"] = df[\"datetime\"].dt.hour * 60 + df[\"datetime\"].dt.minute\n",
    "    # df[\"time\"] = ((df[\"day\"] - 1) * 24 * 60) + df[\"minutes\"]\n",
    "\n",
    "    df.drop(columns=[\"day\", \"24_hr\", \"datetime\"], inplace=True)\n",
    "    df = df[[\"minutes\", \"tide_height\"]]\n",
    "\n",
    "    df.to_csv(\"cleaned_data.csv\", index=False)"
   ]
  },
  {
   "cell_type": "code",
   "execution_count": null,
   "metadata": {},
   "outputs": [],
   "source": [
    "read_and_clean_data()"
   ]
  },
  {
   "cell_type": "markdown",
   "metadata": {},
   "source": [
    "Create the python function for the oscillatory function. The formula is a slightly modified version of the one given by the TA."
   ]
  },
  {
   "cell_type": "code",
   "execution_count": null,
   "metadata": {},
   "outputs": [],
   "source": [
    "def oscillatory_func(t, A, B, C, D):\n",
    "    return A * np.sin(B * t + C) + D"
   ]
  },
  {
   "cell_type": "markdown",
   "metadata": {},
   "source": [
    "Function that fits the oscillation function to the data using `scipy` and returns an array with the points on the fitted curve."
   ]
  },
  {
   "cell_type": "code",
   "execution_count": null,
   "metadata": {},
   "outputs": [],
   "source": [
    "def fit_data(df):\n",
    "    # initial guess for values from experimenting with Desmos graphing calculator\n",
    "    initial_guess = [-4.4, 0.005, -3.6, 2.4]\n",
    "\n",
    "    # sigma given by the TA\n",
    "    rmse = 0.25\n",
    "\n",
    "    # creating weights based on the sigma\n",
    "    weights = 1 / rmse\n",
    "\n",
    "    # call scipy.optimize.curve_fit() to optimize the oscillation function\n",
    "    params, _ = scipy.optimize.curve_fit(\n",
    "        oscillatory_func,\n",
    "        df[\"minutes\"],\n",
    "        df[\"tide_height\"],\n",
    "        p0=initial_guess,\n",
    "        sigma=np.full(len(df), weights),\n",
    "    )\n",
    "\n",
    "    # get the values from the curve_fit()\n",
    "    A, B, C, D = params\n",
    "\n",
    "    # use the oscillatory function and the optimized values to get the fitted curve\n",
    "    fitted_curve = oscillatory_func(df[\"minutes\"], A, B, C, D)\n",
    "    \n",
    "    # return the points on the fitted curve as an array\n",
    "    return np.array(fitted_curve)"
   ]
  },
  {
   "cell_type": "markdown",
   "metadata": {},
   "source": [
    "This function takes in the dataframe and the data from the fitted curve and creates a plot. The figure is saved as a PDF."
   ]
  },
  {
   "cell_type": "code",
   "execution_count": null,
   "metadata": {},
   "outputs": [],
   "source": [
    "def plot_data_and_curve(df, fitted_curve):\n",
    "    # create the plot for the data\n",
    "    plt.figure(1)\n",
    "    plt.scatter(df[\"minutes\"], df[\"tide_height\"], label=\"Original Data\")\n",
    "    plt.plot(df[\"minutes\"], fitted_curve, \"r-\", label=\"Fitted Curve\")\n",
    "    plt.xlabel(\"Time (minutes)\")\n",
    "    plt.ylabel(\"Height (feet)\")\n",
    "    plt.legend()\n",
    "    \n",
    "    # save the figure as a PDF\n",
    "    plt.savefig(\"Part2.pdf\", bbox_inches=\"tight\", dpi=400)"
   ]
  },
  {
   "cell_type": "markdown",
   "metadata": {},
   "source": [
    "This function takes an array as an argument, creates a histogram, and prints the standard deviation (to 3 decimal places) based on the values in the array. The figure is saved as a PDF."
   ]
  },
  {
   "cell_type": "code",
   "execution_count": null,
   "metadata": {},
   "outputs": [],
   "source": [
    "def plot_residuals_hist(arr):\n",
    "    # create a histogram for the data\n",
    "    plt.figure(2)\n",
    "    w = 0.5\n",
    "    plt.hist(\n",
    "        arr,\n",
    "        bins=np.arange(min(arr), max(arr) + w, w),\n",
    "        edgecolor=\"black\",\n",
    "    )\n",
    "    plt.xlabel(\"Residuals\")\n",
    "    plt.ylabel(\"Frequency\")\n",
    "    plt.title(\"Histogram of Residuals\")\n",
    "\n",
    "    plt.text(-2.0,20,f\"Standard Deviation = {np.std(arr):4.3}\")\n",
    "    \n",
    "    # save the figure as a PDF\n",
    "    plt.savefig(\"Part3.pdf\", bbox_inches=\"tight\", dpi=400)"
   ]
  },
  {
   "cell_type": "markdown",
   "metadata": {},
   "source": [
    "Data is read from the cleaned_data csv into a pandas DataFrame. The values are then sorted by the \"minutes\" column to prep for plotting and working with the data. After that, the `fit_data()` function is called to get the best fit curve using the oscillation function we defined above. The data from that function is used by `plot_data_and_curve()` to plot the curve of best fit and the original data points. The residuals are calculated from the point on the best fit curve that we stored from `fit_data()`. The `array_to_hist()` function is then called to create a histogram of the residuals."
   ]
  },
  {
   "cell_type": "code",
   "execution_count": null,
   "metadata": {},
   "outputs": [],
   "source": [
    "# read in the cleaned data and sort the DataFrame\n",
    "df = pd.read_csv(\"cleaned_data.csv\")\n",
    "df.sort_values(by=\"minutes\", inplace=True)\n",
    "\n",
    "# get the curve of best fit\n",
    "best_fit_curve_vals = fit_data(df)\n",
    "\n",
    "# plot the curve of best fit with the original data\n",
    "plot_data_and_curve(df, best_fit_curve_vals)\n",
    "\n",
    "# calculate the residuals by finding the difference between the original data and the data points on the curve of best fit\n",
    "residuals = df[\"tide_height\"] - best_fit_curve_vals\n",
    "\n",
    "# plot the residuals in a histogram\n",
    "plot_residuals_hist(residuals)"
   ]
  }
 ],
 "metadata": {
  "kernelspec": {
   "display_name": "venv",
   "language": "python",
   "name": "python3"
  },
  "language_info": {
   "codemirror_mode": {
    "name": "ipython",
    "version": 3
   },
   "file_extension": ".py",
   "mimetype": "text/x-python",
   "name": "python",
   "nbconvert_exporter": "python",
   "pygments_lexer": "ipython3",
   "version": "3.10.12"
  }
 },
 "nbformat": 4,
 "nbformat_minor": 2
}
