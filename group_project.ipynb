{
 "cells": [
  {
   "cell_type": "markdown",
   "metadata": {},
   "source": [
    "# D-1 Group Project"
   ]
  },
  {
   "cell_type": "markdown",
   "metadata": {},
   "source": [
    "## TODO:\n",
    "\n",
    "1) read in data from `ASTR19_S22_group_project_data.txt`\n",
    "2) define an oscillatory function in Python to describe intra- and inter-day variations in the tide\n",
    "3) use scipy library to fit the oscillatory function to the data assuming the root mean squared experimental error on the height of the tide is 0.25 feet\n",
    "4) graph both the model and the data on the same plot (label the data, provide sufficient labeling of the axes to provide clarity, save the figure to PDF)\n",
    "5) subtract off the best fit function from the data and plot the residuals\n",
    "6) ~more that I will add a bit later~"
   ]
  },
  {
   "cell_type": "code",
   "execution_count": 1,
   "metadata": {},
   "outputs": [],
   "source": [
    "import scipy"
   ]
  }
 ],
 "metadata": {
  "kernelspec": {
   "display_name": "venv",
   "language": "python",
   "name": "python3"
  },
  "language_info": {
   "codemirror_mode": {
    "name": "ipython",
    "version": 3
   },
   "file_extension": ".py",
   "mimetype": "text/x-python",
   "name": "python",
   "nbconvert_exporter": "python",
   "pygments_lexer": "ipython3",
   "version": "3.10.12"
  }
 },
 "nbformat": 4,
 "nbformat_minor": 2
}
